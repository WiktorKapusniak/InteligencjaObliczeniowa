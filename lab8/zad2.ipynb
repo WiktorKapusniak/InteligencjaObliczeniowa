{
 "cells": [
  {
   "cell_type": "code",
   "execution_count": 3,
   "id": "9bab5edc",
   "metadata": {},
   "outputs": [],
   "source": [
    "from nltk.sentiment.vader import SentimentIntensityAnalyzer\n",
    "from transformers import AutoTokenizer, AutoModelForSequenceClassification\n",
    "from transformers import pipeline"
   ]
  },
  {
   "cell_type": "markdown",
   "id": "52802d9b",
   "metadata": {},
   "source": [
    "# Vader"
   ]
  },
  {
   "cell_type": "code",
   "execution_count": 3,
   "id": "15a35ce1",
   "metadata": {},
   "outputs": [
    {
     "name": "stdout",
     "output_type": "stream",
     "text": [
      "Pozytywna opinia: {'neg': 0.0, 'neu': 0.707, 'pos': 0.293, 'compound': 0.945}\n",
      "Negatywna opinia: {'neg': 0.234, 'neu': 0.766, 'pos': 0.0, 'compound': -0.9803}\n"
     ]
    }
   ],
   "source": [
    "pos = \"Check in was friendly and smooth; breakfast was totally satisfying with plenty to eat; clean facilities with a variety of amenities including library / TV room, laundry and lovely outdoor space. Quiet and friendly atmosphere (staff and patrons) in a decent neighborhood area, including nearby grocery store.\"\n",
    "neg = \"Not fully cleaned after renovation, dust and chips on shelves and in drawers, dusty sofa and armchair. No hair dryer. No sponge for washing dishes, no cloth for wiping dishes. TV does not work - not connected, no remote control, no cable TV connected. Remote controls in the device do not support what is coming out. Simply renovation done, but not finished and the apartment should not be handed over yet due to the shortcomings and they were not used after/during renovation. It was really bad. I do not recommend it to anyone. I was very disappointed with the apartment and the service. I will not be returning to this place. Awful and terrible\"\n",
    "\n",
    "analyzer = SentimentIntensityAnalyzer()\n",
    "pos_scores = analyzer.polarity_scores(pos)\n",
    "neg_scores = analyzer.polarity_scores(neg)\n",
    "\n",
    "print(\"Pozytywna opinia:\", pos_scores)\n",
    "print(\"Negatywna opinia:\", neg_scores)"
   ]
  },
  {
   "cell_type": "markdown",
   "id": "3afd8b04",
   "metadata": {},
   "source": [
    "# Bert"
   ]
  },
  {
   "cell_type": "code",
   "execution_count": 4,
   "id": "306200de",
   "metadata": {},
   "outputs": [
    {
     "name": "stderr",
     "output_type": "stream",
     "text": [
      "Device set to use cpu\n"
     ]
    },
    {
     "name": "stdout",
     "output_type": "stream",
     "text": [
      "🔹 Pozytywna opinia:\n",
      "       joy: 0.818\n",
      "   neutral: 0.155\n",
      "  surprise: 0.011\n",
      "   disgust: 0.009\n",
      "   sadness: 0.004\n",
      "     anger: 0.002\n",
      "      fear: 0.001\n",
      "\n",
      "🔸 Negatywna opinia:\n",
      "   sadness: 0.391\n",
      "   disgust: 0.267\n",
      "      fear: 0.243\n",
      "  surprise: 0.037\n",
      "   neutral: 0.032\n",
      "     anger: 0.028\n",
      "       joy: 0.001\n"
     ]
    }
   ],
   "source": [
    "pos = \"Check in was friendly and smooth; breakfast was totally satisfying with plenty to eat; clean facilities with a variety of amenities including library / TV room, laundry and lovely outdoor space. Quiet and friendly atmosphere (staff and patrons) in a decent neighborhood area, including nearby grocery store.\"\n",
    "neg = \"Not fully cleaned after renovation, dust and chips on shelves and in drawers, dusty sofa and armchair. No hair dryer. No sponge for washing dishes, no cloth for wiping dishes. TV does not work - not connected, no remote control, no cable TV connected. Remote controls in the device do not support what is coming out. Simply renovation done, but not finished and the apartment should not be handed over yet due to the shortcomings and they were not used after/during renovation. It was really bad. I do not recommend it to anyone. I was very disappointed with the apartment and the service. I will not be returning to this place. Awful and terrible\"\n",
    "\n",
    "model_name = \"j-hartmann/emotion-english-distilroberta-base\"\n",
    "emotion_classifier = pipeline(\"text-classification\", model=model_name, top_k=None)\n",
    "print(\"🔹 Pozytywna opinia:\")\n",
    "for result in emotion_classifier(pos)[0]:\n",
    "    print(f\"{result['label']:>10}: {result['score']:.3f}\")\n",
    "\n",
    "print(\"\\n🔸 Negatywna opinia:\")\n",
    "for result in emotion_classifier(neg)[0]:\n",
    "    print(f\"{result['label']:>10}: {result['score']:.3f}\")"
   ]
  }
 ],
 "metadata": {
  "kernelspec": {
   "display_name": "Python 3",
   "language": "python",
   "name": "python3"
  },
  "language_info": {
   "codemirror_mode": {
    "name": "ipython",
    "version": 3
   },
   "file_extension": ".py",
   "mimetype": "text/x-python",
   "name": "python",
   "nbconvert_exporter": "python",
   "pygments_lexer": "ipython3",
   "version": "3.10.12"
  }
 },
 "nbformat": 4,
 "nbformat_minor": 5
}
